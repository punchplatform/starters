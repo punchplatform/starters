{
 "cells": [
  {
   "cell_type": "code",
   "execution_count": null,
   "id": "f4be137c",
   "metadata": {},
   "outputs": [],
   "source": [
    "%punch_pex -l mlflow==1.30.0 -g io.models -a isblue_pyspark_pex -v 1.0.0 -o"
   ]
  },
  {
   "cell_type": "code",
   "execution_count": null,
   "id": "aa1c753e",
   "metadata": {},
   "outputs": [],
   "source": [
    "%%punch_dependencies\n",
    "additional-pex:io.models:isblue_pyspark_pex:1.0.0"
   ]
  },
  {
   "cell_type": "markdown",
   "id": "9b411184",
   "metadata": {},
   "source": [
    "### Create a model"
   ]
  },
  {
   "cell_type": "code",
   "execution_count": 1,
   "id": "1fb4d7cd",
   "metadata": {},
   "outputs": [],
   "source": [
    "import mlflow.pyfunc\n",
    "class IsBlue(mlflow.pyfunc.PythonModel):\n",
    "\n",
    "    def __init__(self):\n",
    "        pass\n",
    "\n",
    "    def predict(self, context, model_input):\n",
    "        print(model_input.columns)\n",
    "        model_input[\"prediction\"] =  model_input.apply(lambda x: 1 if x[model_input.columns[0]] == \"blue\" else 0, axis=1)\n",
    "        \n",
    "        return model_input[\"prediction\"]\n",
    "    \n",
    "model = IsBlue()"
   ]
  },
  {
   "cell_type": "markdown",
   "id": "a2a38107",
   "metadata": {},
   "source": [
    "### Datascientist exports its model according to the type of the model (mlflow.pyfunc, mlflow.sklearn, others)"
   ]
  },
  {
   "cell_type": "code",
   "execution_count": 3,
   "id": "a7a0cdc2",
   "metadata": {},
   "outputs": [
    {
     "name": "stdout",
     "output_type": "stream",
     "text": [
      "  adding: MLmodel (deflated 36%)\n",
      "  adding: conda.yaml (deflated 17%)\n",
      "  adding: python_env.yaml (deflated 15%)\n",
      "  adding: python_model.pkl (deflated 34%)\n",
      "  adding: requirements.txt (stored 0%)\n",
      "  adding: isblue_1.0.0.zip (stored 0%)\n",
      "  adding: metadata.yml (deflated 26%)\n"
     ]
    },
    {
     "name": "stderr",
     "output_type": "stream",
     "text": [
      "++ java -Xmx1g -Xms256m -Dlog4j.configurationFile=/punch/conf/log4j2/log4j2-stdout.xml -cp /punch/resourcectl.jar com.github.punchplatform.resourcectl.ResourceCtl -u http://artifacts-server.artifacts-server:4245/ upload -f /tmp/punch_model/artifact_isblue_1.0.0.zip -o\n"
     ]
    },
    {
     "name": "stdout",
     "output_type": "stream",
     "text": [
      "Resource uploaded : model:models:isblue:1.0.0\n"
     ]
    }
   ],
   "source": [
    "%%punch_upload_model -g io.models -n isblue_pyspark -v 1.0.0 -o\n",
    "lambda path: mlflow.pyfunc.save_model(python_model=model, path=path)"
   ]
  },
  {
   "cell_type": "code",
   "execution_count": null,
   "id": "02f48240",
   "metadata": {},
   "outputs": [],
   "source": []
  }
 ],
 "metadata": {
  "kernelspec": {
   "display_name": "Punch Pyspark",
   "language": "python",
   "name": "python3_punch_pyspark"
  },
  "language_info": {
   "codemirror_mode": {
    "name": "ipython",
    "version": 3
   },
   "file_extension": ".py",
   "mimetype": "text/x-python",
   "name": "python",
   "nbconvert_exporter": "python",
   "pygments_lexer": "ipython3",
   "version": "3.10.4"
  }
 },
 "nbformat": 4,
 "nbformat_minor": 5
}
