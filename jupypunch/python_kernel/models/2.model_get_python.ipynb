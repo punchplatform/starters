{
 "cells": [
  {
   "cell_type": "markdown",
   "id": "e2153c18",
   "metadata": {},
   "source": [
    "### Download model"
   ]
  },
  {
   "cell_type": "code",
   "execution_count": null,
   "id": "36d09ad3",
   "metadata": {},
   "outputs": [
    {
     "name": "stderr",
     "output_type": "stream",
     "text": [
      "++ java -Xmx1g -Xms256m -Dlog4j.configurationFile=/punch/conf/log4j2/log4j2-stdout.xml -cp /punch/resourcectl.jar com.github.punchplatform.resourcectl.ResourceCtl -u http://artifacts-server.artifacts-server:4245/ download -r additional-pex:models:isblue:1.0.0 -o /usr/share/punch/extlib/python\n"
     ]
    },
    {
     "name": "stdout",
     "output_type": "stream",
     "text": [
      "Resource additional-pex:models:isblue:1.0.0 downloaded to /usr/share/punch/extlib/python/isblue-1.0.0.pex\n"
     ]
    },
    {
     "name": "stderr",
     "output_type": "stream",
     "text": [
      "++ java -Xmx1g -Xms256m -Dlog4j.configurationFile=/punch/conf/log4j2/log4j2-stdout.xml -cp /punch/resourcectl.jar com.github.punchplatform.resourcectl.ResourceCtl -u http://artifacts-server.artifacts-server:4245/ download -r model:io.models:isblue:1.0.0\n"
     ]
    },
    {
     "name": "stdout",
     "output_type": "stream",
     "text": [
      "Resource model:io.models:isblue:1.0.0 downloaded to /usr/share/punch/artifacts/io/models/isblue/1.0.0/isblue_1.0.0.zip\n"
     ]
    },
    {
     "name": "stderr",
     "output_type": "stream",
     "text": [
      "SLF4J: Failed to load class \"org.slf4j.impl.StaticLoggerBinder\".\n",
      "SLF4J: Defaulting to no-operation (NOP) logger implementation\n",
      "SLF4J: See http://www.slf4j.org/codes.html#StaticLoggerBinder for further details.\n"
     ]
    },
    {
     "data": {
      "application/javascript": "Jupyter.notebook.session.restart({kernel_name: 'python3_punch_python'})",
      "text/plain": [
       "<IPython.core.display.Javascript object>"
      ]
     },
     "metadata": {},
     "output_type": "display_data"
    }
   ],
   "source": [
    "%%punch_dependencies\n",
    "model:io.models:isblue_python:1.0.0\n",
    "additional-pex:io.models:isblue_python_pex:1.0.0"
   ]
  },
  {
   "cell_type": "markdown",
   "id": "66d2cb23",
   "metadata": {},
   "source": [
    "### Get model path in a variable"
   ]
  },
  {
   "cell_type": "code",
   "execution_count": 1,
   "id": "936864cf",
   "metadata": {},
   "outputs": [
    {
     "name": "stderr",
     "output_type": "stream",
     "text": [
      "UsageError: unrecognized arguments: --override\n"
     ]
    }
   ],
   "source": [
    "%punch_get_model --model io.models:isblue_python:1.0.0 --output model"
   ]
  },
  {
   "cell_type": "markdown",
   "id": "3b2a0a91",
   "metadata": {},
   "source": [
    "### Datascientist load its model with the appropriate function"
   ]
  },
  {
   "cell_type": "code",
   "execution_count": 2,
   "id": "8e6c2479",
   "metadata": {},
   "outputs": [],
   "source": [
    "import mlflow\n",
    "isblue = mlflow.pyfunc.load_model(model)"
   ]
  },
  {
   "cell_type": "markdown",
   "id": "6a78c7f6",
   "metadata": {},
   "source": [
    "### Apply model on data"
   ]
  },
  {
   "cell_type": "code",
   "execution_count": 3,
   "id": "c7582dfd",
   "metadata": {},
   "outputs": [
    {
     "name": "stdout",
     "output_type": "stream",
     "text": [
      "Data is available in data variable.\n"
     ]
    }
   ],
   "source": [
    "%%punch_source --type generator --name data -o\n",
    "messages:\n",
    "          - color: red\n",
    "          - color: blue\n",
    "          - color: green\n",
    "          - color: yellow\n",
    "          - color: black"
   ]
  },
  {
   "cell_type": "code",
   "execution_count": 4,
   "id": "2ebb2cc2",
   "metadata": {},
   "outputs": [
    {
     "name": "stdout",
     "output_type": "stream",
     "text": [
      "Index(['color'], dtype='object')\n"
     ]
    },
    {
     "data": {
      "text/html": [
       "<div>\n",
       "<style scoped>\n",
       "    .dataframe tbody tr th:only-of-type {\n",
       "        vertical-align: middle;\n",
       "    }\n",
       "\n",
       "    .dataframe tbody tr th {\n",
       "        vertical-align: top;\n",
       "    }\n",
       "\n",
       "    .dataframe thead th {\n",
       "        text-align: right;\n",
       "    }\n",
       "</style>\n",
       "<table border=\"1\" class=\"dataframe\">\n",
       "  <thead>\n",
       "    <tr style=\"text-align: right;\">\n",
       "      <th></th>\n",
       "      <th>color</th>\n",
       "      <th>prediction</th>\n",
       "    </tr>\n",
       "  </thead>\n",
       "  <tbody>\n",
       "    <tr>\n",
       "      <th>0</th>\n",
       "      <td>red</td>\n",
       "      <td>0</td>\n",
       "    </tr>\n",
       "    <tr>\n",
       "      <th>1</th>\n",
       "      <td>blue</td>\n",
       "      <td>1</td>\n",
       "    </tr>\n",
       "    <tr>\n",
       "      <th>2</th>\n",
       "      <td>green</td>\n",
       "      <td>0</td>\n",
       "    </tr>\n",
       "    <tr>\n",
       "      <th>3</th>\n",
       "      <td>yellow</td>\n",
       "      <td>0</td>\n",
       "    </tr>\n",
       "    <tr>\n",
       "      <th>4</th>\n",
       "      <td>black</td>\n",
       "      <td>0</td>\n",
       "    </tr>\n",
       "  </tbody>\n",
       "</table>\n",
       "</div>"
      ],
      "text/plain": [
       "    color  prediction\n",
       "0     red           0\n",
       "1    blue           1\n",
       "2   green           0\n",
       "3  yellow           0\n",
       "4   black           0"
      ]
     },
     "execution_count": 4,
     "metadata": {},
     "output_type": "execute_result"
    }
   ],
   "source": [
    "data[\"prediction\"] = isblue.predict(data)"
   ]
  },
  {
   "cell_type": "code",
   "execution_count": null,
   "id": "213448fc",
   "metadata": {},
   "outputs": [],
   "source": [
    "data"
   ]
  }
 ],
 "metadata": {
  "kernelspec": {
   "display_name": "Punch Python",
   "language": "python",
   "name": "python3_punch_python"
  },
  "language_info": {
   "codemirror_mode": {
    "name": "ipython",
    "version": 3
   },
   "file_extension": ".py",
   "mimetype": "text/x-python",
   "name": "python",
   "nbconvert_exporter": "python",
   "pygments_lexer": "ipython3",
   "version": "3.10.4"
  }
 },
 "nbformat": 4,
 "nbformat_minor": 5
}
