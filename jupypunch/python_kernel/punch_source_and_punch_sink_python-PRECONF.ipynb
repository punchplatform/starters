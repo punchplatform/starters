{
 "cells": [
  {
   "cell_type": "markdown",
   "id": "6eb88ec1",
   "metadata": {},
   "source": [
    "# Python punch nodes preconfigured during Jupypunch deployment"
   ]
  },
  {
   "cell_type": "markdown",
   "id": "fe957d60",
   "metadata": {},
   "source": [
    "### Generate data to save"
   ]
  },
  {
   "cell_type": "code",
   "execution_count": 1,
   "id": "4771df25",
   "metadata": {},
   "outputs": [
    {
     "name": "stdout",
     "output_type": "stream",
     "text": [
      "Data is available in df variable.\n"
     ]
    }
   ],
   "source": [
    "%%punch_source --type generator --name df -o\n",
    "messages:\n",
    "        - data: My first message\n",
    "        - data: My second message\n",
    "        - data: My third one"
   ]
  },
  {
   "cell_type": "code",
   "execution_count": 2,
   "id": "4d1e711d",
   "metadata": {},
   "outputs": [
    {
     "data": {
      "text/html": [
       "<div>\n",
       "<style scoped>\n",
       "    .dataframe tbody tr th:only-of-type {\n",
       "        vertical-align: middle;\n",
       "    }\n",
       "\n",
       "    .dataframe tbody tr th {\n",
       "        vertical-align: top;\n",
       "    }\n",
       "\n",
       "    .dataframe thead th {\n",
       "        text-align: right;\n",
       "    }\n",
       "</style>\n",
       "<table border=\"1\" class=\"dataframe\">\n",
       "  <thead>\n",
       "    <tr style=\"text-align: right;\">\n",
       "      <th></th>\n",
       "      <th>data</th>\n",
       "    </tr>\n",
       "  </thead>\n",
       "  <tbody>\n",
       "    <tr>\n",
       "      <th>0</th>\n",
       "      <td>My first message</td>\n",
       "    </tr>\n",
       "    <tr>\n",
       "      <th>1</th>\n",
       "      <td>My second message</td>\n",
       "    </tr>\n",
       "  </tbody>\n",
       "</table>\n",
       "</div>"
      ],
      "text/plain": [
       "                data\n",
       "0   My first message\n",
       "1  My second message"
      ]
     },
     "execution_count": 2,
     "metadata": {},
     "output_type": "execute_result"
    }
   ],
   "source": [
    "df.head(2)"
   ]
  },
  {
   "cell_type": "markdown",
   "id": "0b56701c",
   "metadata": {},
   "source": [
    "### ElasticSearch"
   ]
  },
  {
   "cell_type": "markdown",
   "id": "4e0b21cb",
   "metadata": {},
   "source": [
    "##### Save to elasticsearch"
   ]
  },
  {
   "cell_type": "code",
   "execution_count": 3,
   "id": "e6a085cf",
   "metadata": {},
   "outputs": [
    {
     "name": "stdout",
     "output_type": "stream",
     "text": [
      "Data saved.\n"
     ]
    }
   ],
   "source": [
    "%%punch_sink --type elasticsearch -df df\n",
    "index:\n",
    "    type: constant\n",
    "    value: my-index"
   ]
  },
  {
   "cell_type": "markdown",
   "id": "ef53a5ef",
   "metadata": {},
   "source": [
    "#####  Fetch data from elasticsearch"
   ]
  },
  {
   "cell_type": "code",
   "execution_count": 4,
   "id": "7e03603a",
   "metadata": {},
   "outputs": [
    {
     "name": "stdout",
     "output_type": "stream",
     "text": [
      "Data is available in out variable.\n"
     ]
    }
   ],
   "source": [
    "%%punch_source --type elasticsearch --name out -o\n",
    "# Source settings\n",
    "index: my-index"
   ]
  },
  {
   "cell_type": "code",
   "execution_count": 5,
   "id": "42203383",
   "metadata": {},
   "outputs": [
    {
     "data": {
      "text/html": [
       "<div>\n",
       "<style scoped>\n",
       "    .dataframe tbody tr th:only-of-type {\n",
       "        vertical-align: middle;\n",
       "    }\n",
       "\n",
       "    .dataframe tbody tr th {\n",
       "        vertical-align: top;\n",
       "    }\n",
       "\n",
       "    .dataframe thead th {\n",
       "        text-align: right;\n",
       "    }\n",
       "</style>\n",
       "<table border=\"1\" class=\"dataframe\">\n",
       "  <thead>\n",
       "    <tr style=\"text-align: right;\">\n",
       "      <th></th>\n",
       "      <th>data</th>\n",
       "      <th>@timestamp</th>\n",
       "    </tr>\n",
       "  </thead>\n",
       "  <tbody>\n",
       "    <tr>\n",
       "      <th>0</th>\n",
       "      <td>My first message</td>\n",
       "      <td>1.662715e+12</td>\n",
       "    </tr>\n",
       "    <tr>\n",
       "      <th>1</th>\n",
       "      <td>My second message</td>\n",
       "      <td>1.662715e+12</td>\n",
       "    </tr>\n",
       "  </tbody>\n",
       "</table>\n",
       "</div>"
      ],
      "text/plain": [
       "                data    @timestamp\n",
       "0   My first message  1.662715e+12\n",
       "1  My second message  1.662715e+12"
      ]
     },
     "execution_count": 5,
     "metadata": {},
     "output_type": "execute_result"
    }
   ],
   "source": [
    "out.head(2)"
   ]
  },
  {
   "cell_type": "code",
   "execution_count": 6,
   "id": "3093530f",
   "metadata": {},
   "outputs": [],
   "source": [
    "del out"
   ]
  },
  {
   "cell_type": "markdown",
   "id": "83eb5bf4",
   "metadata": {},
   "source": [
    "### Kafka"
   ]
  },
  {
   "cell_type": "markdown",
   "id": "6572d045",
   "metadata": {},
   "source": [
    "##### Save to kafka"
   ]
  },
  {
   "cell_type": "code",
   "execution_count": 7,
   "id": "0b28c593",
   "metadata": {},
   "outputs": [
    {
     "name": "stdout",
     "output_type": "stream",
     "text": [
      "Data saved.\n"
     ]
    }
   ],
   "source": [
    "%%punch_sink --type kafka -df df\n",
    "topic: my-topicbis"
   ]
  },
  {
   "cell_type": "markdown",
   "id": "e06d15cb",
   "metadata": {},
   "source": [
    "### File (local)"
   ]
  },
  {
   "cell_type": "markdown",
   "id": "937980f0",
   "metadata": {},
   "source": [
    "##### Save to a local file"
   ]
  },
  {
   "cell_type": "code",
   "execution_count": 8,
   "id": "85afae2a",
   "metadata": {},
   "outputs": [
    {
     "name": "stdout",
     "output_type": "stream",
     "text": [
      "Data saved.\n"
     ]
    }
   ],
   "source": [
    "%%punch_sink --type file -df df\n",
    "path: df.csv"
   ]
  },
  {
   "cell_type": "markdown",
   "id": "661e6288",
   "metadata": {},
   "source": [
    "##### Recover data from a local file"
   ]
  },
  {
   "cell_type": "code",
   "execution_count": 9,
   "id": "e29173b6",
   "metadata": {},
   "outputs": [
    {
     "name": "stdout",
     "output_type": "stream",
     "text": [
      "Data is available in out variable.\n"
     ]
    }
   ],
   "source": [
    "%%punch_source --type file --name out -o\n",
    "path: df.csv"
   ]
  },
  {
   "cell_type": "code",
   "execution_count": 10,
   "id": "e40b20e8",
   "metadata": {},
   "outputs": [
    {
     "data": {
      "text/html": [
       "<div>\n",
       "<style scoped>\n",
       "    .dataframe tbody tr th:only-of-type {\n",
       "        vertical-align: middle;\n",
       "    }\n",
       "\n",
       "    .dataframe tbody tr th {\n",
       "        vertical-align: top;\n",
       "    }\n",
       "\n",
       "    .dataframe thead th {\n",
       "        text-align: right;\n",
       "    }\n",
       "</style>\n",
       "<table border=\"1\" class=\"dataframe\">\n",
       "  <thead>\n",
       "    <tr style=\"text-align: right;\">\n",
       "      <th></th>\n",
       "      <th>Unnamed: 0</th>\n",
       "      <th>data</th>\n",
       "    </tr>\n",
       "  </thead>\n",
       "  <tbody>\n",
       "    <tr>\n",
       "      <th>0</th>\n",
       "      <td>0.0</td>\n",
       "      <td>My first message</td>\n",
       "    </tr>\n",
       "    <tr>\n",
       "      <th>1</th>\n",
       "      <td>1.0</td>\n",
       "      <td>My second message</td>\n",
       "    </tr>\n",
       "  </tbody>\n",
       "</table>\n",
       "</div>"
      ],
      "text/plain": [
       "   Unnamed: 0               data\n",
       "0         0.0   My first message\n",
       "1         1.0  My second message"
      ]
     },
     "execution_count": 10,
     "metadata": {},
     "output_type": "execute_result"
    }
   ],
   "source": [
    "out.head(2)"
   ]
  },
  {
   "cell_type": "code",
   "execution_count": 11,
   "id": "50382f9c",
   "metadata": {},
   "outputs": [],
   "source": [
    "del out"
   ]
  },
  {
   "cell_type": "markdown",
   "id": "0af9000a",
   "metadata": {},
   "source": [
    "### S3"
   ]
  },
  {
   "cell_type": "markdown",
   "id": "4981ec17",
   "metadata": {},
   "source": [
    "##### Save to S3"
   ]
  },
  {
   "cell_type": "code",
   "execution_count": 12,
   "id": "08ebdca0",
   "metadata": {},
   "outputs": [
    {
     "name": "stdout",
     "output_type": "stream",
     "text": [
      "\u001b[34mcreated subdirectory/df.csv object; bucket: default ; etag: \"53785448eeb6dad3f5bca1df53788f98\"\u001b[0m\n",
      "Data saved.\n"
     ]
    }
   ],
   "source": [
    "%%punch_sink --type s3 -df df\n",
    "bucket: default\n",
    "path: subdirectory/df.csv"
   ]
  },
  {
   "cell_type": "markdown",
   "id": "df039930",
   "metadata": {},
   "source": [
    "##### Recover data from s3"
   ]
  },
  {
   "cell_type": "code",
   "execution_count": 13,
   "id": "6ad31e66",
   "metadata": {},
   "outputs": [
    {
     "name": "stdout",
     "output_type": "stream",
     "text": [
      "Data is available in out variable.\n"
     ]
    }
   ],
   "source": [
    "%%punch_source --type s3 --name out -o \n",
    "bucket: default\n",
    "prefix: subdirectory/df.csv\n",
    "encoding_format: csv"
   ]
  },
  {
   "cell_type": "code",
   "execution_count": 14,
   "id": "25aa4721",
   "metadata": {},
   "outputs": [
    {
     "data": {
      "text/html": [
       "<div>\n",
       "<style scoped>\n",
       "    .dataframe tbody tr th:only-of-type {\n",
       "        vertical-align: middle;\n",
       "    }\n",
       "\n",
       "    .dataframe tbody tr th {\n",
       "        vertical-align: top;\n",
       "    }\n",
       "\n",
       "    .dataframe thead th {\n",
       "        text-align: right;\n",
       "    }\n",
       "</style>\n",
       "<table border=\"1\" class=\"dataframe\">\n",
       "  <thead>\n",
       "    <tr style=\"text-align: right;\">\n",
       "      <th></th>\n",
       "      <th>Unnamed: 0</th>\n",
       "      <th>data</th>\n",
       "      <th>_ppf_path</th>\n",
       "      <th>_ppf_last_modified</th>\n",
       "    </tr>\n",
       "  </thead>\n",
       "  <tbody>\n",
       "    <tr>\n",
       "      <th>0</th>\n",
       "      <td>0</td>\n",
       "      <td>My first message</td>\n",
       "      <td>subdirectory/df.csv</td>\n",
       "      <td>1.666202e+09</td>\n",
       "    </tr>\n",
       "    <tr>\n",
       "      <th>1</th>\n",
       "      <td>1</td>\n",
       "      <td>My second message</td>\n",
       "      <td>subdirectory/df.csv</td>\n",
       "      <td>1.666202e+09</td>\n",
       "    </tr>\n",
       "  </tbody>\n",
       "</table>\n",
       "</div>"
      ],
      "text/plain": [
       "   Unnamed: 0               data            _ppf_path  _ppf_last_modified\n",
       "0           0   My first message  subdirectory/df.csv        1.666202e+09\n",
       "1           1  My second message  subdirectory/df.csv        1.666202e+09"
      ]
     },
     "execution_count": 14,
     "metadata": {},
     "output_type": "execute_result"
    }
   ],
   "source": [
    "out.head(2)"
   ]
  },
  {
   "cell_type": "code",
   "execution_count": 15,
   "id": "351a79ca",
   "metadata": {},
   "outputs": [],
   "source": [
    "del out"
   ]
  },
  {
   "cell_type": "code",
   "execution_count": null,
   "id": "b2323db8",
   "metadata": {},
   "outputs": [],
   "source": []
  }
 ],
 "metadata": {
  "kernelspec": {
   "display_name": "Punch Python",
   "language": "python",
   "name": "python3_punch_python"
  },
  "language_info": {
   "codemirror_mode": {
    "name": "ipython",
    "version": 3
   },
   "file_extension": ".py",
   "mimetype": "text/x-python",
   "name": "python",
   "nbconvert_exporter": "python",
   "pygments_lexer": "ipython3",
   "version": "3.10.4"
  }
 },
 "nbformat": 4,
 "nbformat_minor": 5
}
