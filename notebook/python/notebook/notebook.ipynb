{
 "cells": [
  {
   "cell_type": "code",
   "execution_count": null,
   "id": "256f1fa2",
   "metadata": {},
   "outputs": [],
   "source": [
    "import numpy as np\n",
    "import pandas as pd"
   ]
  },
  {
   "cell_type": "markdown",
   "id": "aad1be0c",
   "metadata": {},
   "source": [
    "#Mynotebook"
   ]
  },
  {
   "cell_type": "code",
   "execution_count": null,
   "id": "8425cbc7",
   "metadata": {
    "vscode": {
     "languageId": "plaintext"
    }
   },
   "outputs": [],
   "source": [
    "#parameters\n",
    "name  = \"marc\"\n",
    "init = 5"
   ]
  },
  {
   "cell_type": "code",
   "execution_count": null,
   "id": "a8dc4611",
   "metadata": {
    "vscode": {
     "languageId": "plaintext"
    }
   },
   "outputs": [],
   "source": [
    "print(table1.head())"
   ]
  },
  {
   "cell_type": "code",
   "execution_count": null,
   "id": "8466bc8a",
   "metadata": {
    "vscode": {
     "languageId": "plaintext"
    }
   },
   "outputs": [],
   "source": [
    "print(table2.head())"
   ]
  },
  {
   "cell_type": "code",
   "execution_count": null,
   "id": "915d254a",
   "metadata": {
    "vscode": {
     "languageId": "plaintext"
    }
   },
   "outputs": [],
   "source": [
    "def test(table, init=init):\n",
    "    table[\"new_col\"] = np.arange(len(table))\n",
    "    return table\n",
    "\n",
    "table1_modified = test(table1)\n",
    "table2_modified = test(table2)\n",
    "\n",
    "#concatenation\n",
    "new_table = pd.concat([table1_modified, table2_modified])"
   ]
  },
  {
   "cell_type": "code",
   "execution_count": null,
   "id": "cd1e6ab4",
   "metadata": {
    "vscode": {
     "languageId": "plaintext"
    }
   },
   "outputs": [],
   "source": [
    "print(\"hello {}\".format(name))\n",
    "print(\"init: \", init)\n",
    "init = init+2\n",
    "print(\"init: \", init)"
   ]
  }
 ],
 "metadata": {
  "kernelspec": {
   "display_name": "Punch Python",
   "language": "python",
   "name": "python3_punch_python"
  },
  "language_info": {
   "codemirror_mode": {
    "name": "ipython",
    "version": 3
   },
   "file_extension": ".py",
   "mimetype": "text/x-python",
   "name": "python",
   "nbconvert_exporter": "python",
   "pygments_lexer": "ipython3",
   "version": "3.10.4"
  }
 },
 "nbformat": 4,
 "nbformat_minor": 5
}
